{
 "cells": [
  {
   "cell_type": "markdown",
   "metadata": {},
   "source": [
    "Connected to Python 3.13.3"
   ]
  },
  {
   "cell_type": "code",
   "execution_count": null,
   "id": "69012752-0ae6-4e8e-954d-85ee075e0733",
   "metadata": {},
   "outputs": [
    {
     "name": "stdout",
     "output_type": "stream",
     "text": [
      "Enter your function f(x, y): (e.g. x**2 + 2*y**2 - 2*x - 4*y)\n",
      "Gradient of f: Matrix([[2*x - 2], [4*y - 4]])\n",
      "Hessian of f: Matrix([[2, 0], [0, 4]])\n"
     ]
    }
   ],
   "source": [
    "import sympy as sp\n",
    "import numpy as np\n",
    "\n",
    "print(\"Enter your function f(x, y): (e.g. x**2 + 2*y**2 - 2*x - 4*y)\")\n",
    "f_expr = sp.sympify(input(\"f(x, y) = \"))\n",
    "\n",
    "x, y = sp.symbols('x y')\n",
    "vars = sp.Matrix([x, y])\n",
    "grad_f = sp.Matrix([sp.diff(f_expr, var) for var in vars])\n",
    "print(\"Gradient of f:\", grad_f)\n",
    "hessian_f = grad_f.jacobian(vars)\n",
    "print(\"Hessian of f:\", hessian_f)   "
   ]
  },
  {
   "cell_type": "code",
   "execution_count": null,
   "id": "b43504c5-f284-4c72-92f1-114b053ede71",
   "metadata": {},
   "outputs": [
    {
     "name": "stdout",
     "output_type": "stream",
     "text": [
      "Enter your function f(x, y): \n",
      "Gradient of f: Matrix([[2*x - 2], [4*y - 4]])\n",
      "Hessian of f: Matrix([[2, 0], [0, 4]])\n",
      "Enter your initial guess (x0, y0): \n"
     ]
    }
   ],
   "source": [
    "import sympy as sp\n",
    "import numpy as np\n",
    "\n",
    "print(\"Enter your function f(x, y): \")\n",
    "f_expr = sp.sympify(input(\"f(x, y) = \"))\n",
    "\n",
    "x, y = sp.symbols('x y')\n",
    "vars = sp.Matrix([x, y])\n",
    "grad_f = sp.Matrix([sp.diff(f_expr, var) for var in vars])\n",
    "print(\"Gradient of f:\", grad_f)\n",
    "hessian_f = grad_f.jacobian(vars)\n",
    "print(\"Hessian of f:\", hessian_f)\n",
    "print(\"Enter your initial guess (x0, y0): \")\n",
    "x0, y0 = map(float, input(\"x0 y0: \").split())    "
   ]
  },
  {
   "cell_type": "code",
   "execution_count": null,
   "id": "20a533c7-a291-4196-a44f-86469f7f3635",
   "metadata": {},
   "outputs": [
    {
     "name": "stdout",
     "output_type": "stream",
     "text": [
      "Enter your function f(x, y): \n",
      "Gradient of f: Matrix([[2*x - 2], [4*y - 4]])\n",
      "Hessian of f: Matrix([[2, 0], [0, 4]])\n",
      "Enter your initial guess (x0, y0): \n"
     ]
    },
    {
     "ename": "ValueError",
     "evalue": "not enough values to unpack (expected 2, got 1)",
     "output_type": "error",
     "traceback": [
      "\u001b[31m---------------------------------------------------------------------------\u001b[39m",
      "\u001b[31mValueError\u001b[39m                                Traceback (most recent call last)",
      "\u001b[36mCell\u001b[39m\u001b[36m \u001b[39m\u001b[32mIn[3]\u001b[39m\u001b[32m, line 14\u001b[39m\n\u001b[32m     12\u001b[39m \u001b[38;5;28mprint\u001b[39m(\u001b[33m\"\u001b[39m\u001b[33mHessian of f:\u001b[39m\u001b[33m\"\u001b[39m, hessian_f)\n\u001b[32m     13\u001b[39m \u001b[38;5;28mprint\u001b[39m(\u001b[33m\"\u001b[39m\u001b[33mEnter your initial guess (x0, y0): \u001b[39m\u001b[33m\"\u001b[39m)\n\u001b[32m---> \u001b[39m\u001b[32m14\u001b[39m x0, y0 = \u001b[38;5;28mmap\u001b[39m(\u001b[38;5;28mfloat\u001b[39m, \u001b[38;5;28minput\u001b[39m(\u001b[33m\"\u001b[39m\u001b[33mx0 y0: \u001b[39m\u001b[33m\"\u001b[39m).split())    \n\u001b[32m     15\u001b[39m \u001b[38;5;28mprint\u001b[39m(\u001b[33m\"\u001b[39m\u001b[33mInitial guess:\u001b[39m\u001b[33m\"\u001b[39m, (x0, y0))\n",
      "\u001b[31mValueError\u001b[39m: not enough values to unpack (expected 2, got 1)"
     ]
    }
   ],
   "source": [
    "import sympy as sp\n",
    "import numpy as np\n",
    "\n",
    "print(\"Enter your function f(x, y): \")\n",
    "#f_expr = sp.sympify(input(\"f(x, y) = \"))\n",
    "\n",
    "x, y = sp.symbols('x y')\n",
    "vars = sp.Matrix([x, y])\n",
    "grad_f = sp.Matrix([sp.diff(f_expr, var) for var in vars])\n",
    "print(\"Gradient of f:\", grad_f)\n",
    "hessian_f = grad_f.jacobian(vars)\n",
    "print(\"Hessian of f:\", hessian_f)\n",
    "print(\"Enter your initial guess (x0, y0): \")\n",
    "x0, y0 = map(float, input(\"x0 y0: \").split())    \n",
    "print(\"Initial guess:\", (x0, y0))"
   ]
  },
  {
   "cell_type": "code",
   "execution_count": null,
   "id": "2b94b66a-107e-4e93-8e5e-2da1fef270e5",
   "metadata": {},
   "outputs": [
    {
     "name": "stdout",
     "output_type": "stream",
     "text": [
      "Enter your function f(x, y): \n",
      "Gradient of f: Matrix([[2*x - 2], [4*y - 4]])\n",
      "Hessian of f: Matrix([[2, 0], [0, 4]])\n",
      "Enter your initial guess (x0, y0): \n"
     ]
    },
    {
     "ename": "ValueError",
     "evalue": "could not convert string to float: '0,'",
     "output_type": "error",
     "traceback": [
      "\u001b[31m---------------------------------------------------------------------------\u001b[39m",
      "\u001b[31mValueError\u001b[39m                                Traceback (most recent call last)",
      "\u001b[36mCell\u001b[39m\u001b[36m \u001b[39m\u001b[32mIn[4]\u001b[39m\u001b[32m, line 14\u001b[39m\n\u001b[32m     12\u001b[39m \u001b[38;5;28mprint\u001b[39m(\u001b[33m\"\u001b[39m\u001b[33mHessian of f:\u001b[39m\u001b[33m\"\u001b[39m, hessian_f)\n\u001b[32m     13\u001b[39m \u001b[38;5;28mprint\u001b[39m(\u001b[33m\"\u001b[39m\u001b[33mEnter your initial guess (x0, y0): \u001b[39m\u001b[33m\"\u001b[39m)\n\u001b[32m---> \u001b[39m\u001b[32m14\u001b[39m x0, y0 = \u001b[38;5;28mmap\u001b[39m(\u001b[38;5;28mfloat\u001b[39m, \u001b[38;5;28minput\u001b[39m(\u001b[33m\"\u001b[39m\u001b[33mx0 y0: \u001b[39m\u001b[33m\"\u001b[39m).split())    \n\u001b[32m     15\u001b[39m \u001b[38;5;28mprint\u001b[39m(\u001b[33m\"\u001b[39m\u001b[33mInitial guess:\u001b[39m\u001b[33m\"\u001b[39m, (x0, y0))\n",
      "\u001b[31mValueError\u001b[39m: could not convert string to float: '0,'"
     ]
    }
   ],
   "source": [
    "import sympy as sp\n",
    "import numpy as np\n",
    "\n",
    "print(\"Enter your function f(x, y): \")\n",
    "#f_expr = sp.sympify(input(\"f(x, y) = \"))\n",
    "\n",
    "x, y = sp.symbols('x y')\n",
    "vars = sp.Matrix([x, y])\n",
    "grad_f = sp.Matrix([sp.diff(f_expr, var) for var in vars])\n",
    "print(\"Gradient of f:\", grad_f)\n",
    "hessian_f = grad_f.jacobian(vars)\n",
    "print(\"Hessian of f:\", hessian_f)\n",
    "print(\"Enter your initial guess (x0, y0): \")\n",
    "x0, y0 = map(float, input(\"x0 y0: \").split())    \n",
    "print(\"Initial guess:\", (x0, y0))"
   ]
  },
  {
   "cell_type": "code",
   "execution_count": null,
   "id": "695110e2-01b8-477e-92dc-ce7b21285bf4",
   "metadata": {},
   "outputs": [
    {
     "name": "stdout",
     "output_type": "stream",
     "text": [
      "Enter your function f(x, y): \n",
      "Gradient of f: Matrix([[2*x - 2], [4*y - 4]])\n",
      "Hessian of f: Matrix([[2, 0], [0, 4]])\n",
      "Enter your initial guess (x0, y0): \n"
     ]
    },
    {
     "ename": "ValueError",
     "evalue": "could not convert string to float: '0,0'",
     "output_type": "error",
     "traceback": [
      "\u001b[31m---------------------------------------------------------------------------\u001b[39m",
      "\u001b[31mValueError\u001b[39m                                Traceback (most recent call last)",
      "\u001b[36mCell\u001b[39m\u001b[36m \u001b[39m\u001b[32mIn[5]\u001b[39m\u001b[32m, line 14\u001b[39m\n\u001b[32m     12\u001b[39m \u001b[38;5;28mprint\u001b[39m(\u001b[33m\"\u001b[39m\u001b[33mHessian of f:\u001b[39m\u001b[33m\"\u001b[39m, hessian_f)\n\u001b[32m     13\u001b[39m \u001b[38;5;28mprint\u001b[39m(\u001b[33m\"\u001b[39m\u001b[33mEnter your initial guess (x0, y0): \u001b[39m\u001b[33m\"\u001b[39m)\n\u001b[32m---> \u001b[39m\u001b[32m14\u001b[39m x0, y0 = \u001b[38;5;28mmap\u001b[39m(\u001b[38;5;28mfloat\u001b[39m, \u001b[38;5;28minput\u001b[39m(\u001b[33m\"\u001b[39m\u001b[33mx0 y0: \u001b[39m\u001b[33m\"\u001b[39m).split())    \n\u001b[32m     15\u001b[39m \u001b[38;5;28mprint\u001b[39m(\u001b[33m\"\u001b[39m\u001b[33mInitial guess:\u001b[39m\u001b[33m\"\u001b[39m, (x0, y0))\n",
      "\u001b[31mValueError\u001b[39m: could not convert string to float: '0,0'"
     ]
    }
   ],
   "source": [
    "import sympy as sp\n",
    "import numpy as np\n",
    "\n",
    "print(\"Enter your function f(x, y): \")\n",
    "#f_expr = sp.sympify(input(\"f(x, y) = \"))\n",
    "\n",
    "x, y = sp.symbols('x y')\n",
    "vars = sp.Matrix([x, y])\n",
    "grad_f = sp.Matrix([sp.diff(f_expr, var) for var in vars])\n",
    "print(\"Gradient of f:\", grad_f)\n",
    "hessian_f = grad_f.jacobian(vars)\n",
    "print(\"Hessian of f:\", hessian_f)\n",
    "print(\"Enter your initial guess (x0, y0): \")\n",
    "x0, y0 = map(float, input(\"x0 y0: \").split())    \n",
    "print(\"Initial guess:\", (x0, y0))"
   ]
  },
  {
   "cell_type": "code",
   "execution_count": null,
   "id": "b58a3f81-db05-400b-b192-5017f2bbc3c3",
   "metadata": {},
   "outputs": [
    {
     "name": "stdout",
     "output_type": "stream",
     "text": [
      "Enter your function f(x, y): \n",
      "Gradient of f: Matrix([[2*x - 2], [4*y - 4]])\n",
      "Hessian of f: Matrix([[2, 0], [0, 4]])\n",
      "Enter your initial guess (x0, y0): \n"
     ]
    },
    {
     "ename": "ValueError",
     "evalue": "not enough values to unpack (expected 2, got 1)",
     "output_type": "error",
     "traceback": [
      "\u001b[31m---------------------------------------------------------------------------\u001b[39m",
      "\u001b[31mValueError\u001b[39m                                Traceback (most recent call last)",
      "\u001b[36mCell\u001b[39m\u001b[36m \u001b[39m\u001b[32mIn[6]\u001b[39m\u001b[32m, line 15\u001b[39m\n\u001b[32m     13\u001b[39m \u001b[38;5;28mprint\u001b[39m(\u001b[33m\"\u001b[39m\u001b[33mEnter your initial guess (x0, y0): \u001b[39m\u001b[33m\"\u001b[39m)\n\u001b[32m     14\u001b[39m input_str = \u001b[38;5;28minput\u001b[39m(\u001b[33m\"\u001b[39m\u001b[33mx0, y0 = \u001b[39m\u001b[33m\"\u001b[39m)\n\u001b[32m---> \u001b[39m\u001b[32m15\u001b[39m x0, y0 = \u001b[38;5;28mmap\u001b[39m(\u001b[38;5;28mfloat\u001b[39m, input_str.split(\u001b[33m'\u001b[39m\u001b[33m,\u001b[39m\u001b[33m'\u001b[39m))    \n\u001b[32m     16\u001b[39m \u001b[38;5;28mprint\u001b[39m(\u001b[33m\"\u001b[39m\u001b[33mInitial guess:\u001b[39m\u001b[33m\"\u001b[39m, (x0, y0))\n",
      "\u001b[31mValueError\u001b[39m: not enough values to unpack (expected 2, got 1)"
     ]
    }
   ],
   "source": [
    "import sympy as sp\n",
    "import numpy as np\n",
    "\n",
    "print(\"Enter your function f(x, y): \")\n",
    "#f_expr = sp.sympify(input(\"f(x, y) = \"))\n",
    "\n",
    "x, y = sp.symbols('x y')\n",
    "vars = sp.Matrix([x, y])\n",
    "grad_f = sp.Matrix([sp.diff(f_expr, var) for var in vars])\n",
    "print(\"Gradient of f:\", grad_f)\n",
    "hessian_f = grad_f.jacobian(vars)\n",
    "print(\"Hessian of f:\", hessian_f)\n",
    "print(\"Enter your initial guess (x0, y0): \")\n",
    "input_str = input(\"x0, y0 = \")\n",
    "x0, y0 = map(float, input_str.split(','))    \n",
    "print(\"Initial guess:\", (x0, y0))"
   ]
  },
  {
   "cell_type": "code",
   "execution_count": null,
   "id": "13298079-4b4a-473d-898a-f4579b6f0326",
   "metadata": {},
   "outputs": [
    {
     "name": "stdout",
     "output_type": "stream",
     "text": [
      "Enter your function f(x, y): \n",
      "Gradient of f: Matrix([[2*x - 2], [4*y - 4]])\n",
      "Hessian of f: Matrix([[2, 0], [0, 4]])\n",
      "Enter your initial guess (x0, y0): \n",
      "Initial guess: (0.0, 0.0)\n"
     ]
    }
   ],
   "source": [
    "import sympy as sp\n",
    "import numpy as np\n",
    "\n",
    "print(\"Enter your function f(x, y): \")\n",
    "#f_expr = sp.sympify(input(\"f(x, y) = \"))\n",
    "\n",
    "x, y = sp.symbols('x y')\n",
    "vars = sp.Matrix([x, y])\n",
    "grad_f = sp.Matrix([sp.diff(f_expr, var) for var in vars])\n",
    "print(\"Gradient of f:\", grad_f)\n",
    "hessian_f = grad_f.jacobian(vars)\n",
    "print(\"Hessian of f:\", hessian_f)\n",
    "print(\"Enter your initial guess (x0, y0): \")\n",
    "input_str = input(\"x0, y0 = \")\n",
    "x0, y0 = map(float, input_str.split(','))    \n",
    "print(\"Initial guess:\", (x0, y0))"
   ]
  },
  {
   "cell_type": "code",
   "execution_count": null,
   "id": "74b211f6-8696-464b-90f3-08cd6e9063dd",
   "metadata": {},
   "outputs": [
    {
     "name": "stdout",
     "output_type": "stream",
     "text": [
      "Enter your function f(x, y): \n",
      "Gradient of f: Matrix([[2*x - 2], [4*y - 4]])\n",
      "Hessian of f: Matrix([[2, 0], [0, 4]])\n",
      "Enter your initial guess (x0, y0): \n"
     ]
    },
    {
     "ename": "ValueError",
     "evalue": "not enough values to unpack (expected 2, got 1)",
     "output_type": "error",
     "traceback": [
      "\u001b[31m---------------------------------------------------------------------------\u001b[39m",
      "\u001b[31mValueError\u001b[39m                                Traceback (most recent call last)",
      "\u001b[36mCell\u001b[39m\u001b[36m \u001b[39m\u001b[32mIn[8]\u001b[39m\u001b[32m, line 15\u001b[39m\n\u001b[32m     13\u001b[39m \u001b[38;5;28mprint\u001b[39m(\u001b[33m\"\u001b[39m\u001b[33mEnter your initial guess (x0, y0): \u001b[39m\u001b[33m\"\u001b[39m)\n\u001b[32m     14\u001b[39m input_str = \u001b[38;5;28minput\u001b[39m(\u001b[33m\"\u001b[39m\u001b[33mx0, y0 = \u001b[39m\u001b[33m\"\u001b[39m)\n\u001b[32m---> \u001b[39m\u001b[32m15\u001b[39m x0, y0 = \u001b[38;5;28mmap\u001b[39m(\u001b[38;5;28mfloat\u001b[39m, input_str.split(\u001b[33m'\u001b[39m\u001b[33m,\u001b[39m\u001b[33m'\u001b[39m))    \n\u001b[32m     16\u001b[39m \u001b[38;5;28mprint\u001b[39m(\u001b[33m\"\u001b[39m\u001b[33mInitial guess:\u001b[39m\u001b[33m\"\u001b[39m, (x0, y0))\n",
      "\u001b[31mValueError\u001b[39m: not enough values to unpack (expected 2, got 1)"
     ]
    }
   ],
   "source": [
    "import sympy as sp\n",
    "import numpy as np\n",
    "\n",
    "print(\"Enter your function f(x, y): \")\n",
    "#f_expr = sp.sympify(input(\"f(x, y) = \"))\n",
    "\n",
    "x, y = sp.symbols('x y')\n",
    "vars = sp.Matrix([x, y])\n",
    "grad_f = sp.Matrix([sp.diff(f_expr, var) for var in vars])\n",
    "print(\"Gradient of f:\", grad_f)\n",
    "hessian_f = grad_f.jacobian(vars)\n",
    "print(\"Hessian of f:\", hessian_f)\n",
    "print(\"Enter your initial guess (x0, y0): \")\n",
    "input_str = input(\"x0, y0 = \")\n",
    "x0, y0 = map(float, input_str.split(','))    \n",
    "print(\"Initial guess:\", (x0, y0))"
   ]
  },
  {
   "cell_type": "code",
   "execution_count": null,
   "id": "df1688ae-7e6c-489b-a6c2-721736fc4d94",
   "metadata": {},
   "outputs": [
    {
     "name": "stdout",
     "output_type": "stream",
     "text": [
      "Enter your function f(x, y): \n",
      "Gradient of f: Matrix([[2*x - 2], [4*y - 4]])\n",
      "Hessian of f: Matrix([[2, 0], [0, 4]])\n",
      "Enter your initial guess (x0, y0): \n",
      "Initial guess: (5.0, 0.0)\n"
     ]
    }
   ],
   "source": [
    "import sympy as sp\n",
    "import numpy as np\n",
    "\n",
    "print(\"Enter your function f(x, y): \")\n",
    "#f_expr = sp.sympify(input(\"f(x, y) = \"))\n",
    "\n",
    "x, y = sp.symbols('x y')\n",
    "vars = sp.Matrix([x, y])\n",
    "grad_f = sp.Matrix([sp.diff(f_expr, var) for var in vars])\n",
    "print(\"Gradient of f:\", grad_f)\n",
    "hessian_f = grad_f.jacobian(vars)\n",
    "print(\"Hessian of f:\", hessian_f)\n",
    "print(\"Enter your initial guess (x0, y0): \")\n",
    "input_str = input(\"x0, y0 = \")\n",
    "x0, y0 = map(float, input_str.split(','))    \n",
    "print(\"Initial guess:\", (x0, y0))"
   ]
  },
  {
   "cell_type": "code",
   "execution_count": null,
   "id": "d52afd47-c229-4085-a676-9a91522df816",
   "metadata": {},
   "outputs": [
    {
     "name": "stdout",
     "output_type": "stream",
     "text": [
      "Enter your function f(x, y): \n",
      "Gradient of f: Matrix([[2*x - 2], [4*y - 4]])\n",
      "Hessian of f: Matrix([[2, 0], [0, 4]])\n",
      "Enter your initial guess (x0, y0): \n",
      "Initial guess: (0.0, 0.0)\n"
     ]
    },
    {
     "ename": "SympifyError",
     "evalue": "SympifyError: array([2*alpha, 2*alpha], dtype=object)",
     "output_type": "error",
     "traceback": [
      "\u001b[31m---------------------------------------------------------------------------\u001b[39m",
      "\u001b[31mSympifyError\u001b[39m                              Traceback (most recent call last)",
      "\u001b[36mCell\u001b[39m\u001b[36m \u001b[39m\u001b[32mIn[10]\u001b[39m\u001b[32m, line 39\u001b[39m\n\u001b[32m     37\u001b[39m alpha = sp.Symbol(\u001b[33m'\u001b[39m\u001b[33malpha\u001b[39m\u001b[33m'\u001b[39m, real=\u001b[38;5;28;01mTrue\u001b[39;00m)\n\u001b[32m     38\u001b[39m new_point = point - alpha * grad_f.subs({x: point[\u001b[32m0\u001b[39m], y: point[\u001b[32m1\u001b[39m]})\n\u001b[32m---> \u001b[39m\u001b[32m39\u001b[39m f_alpha = \u001b[43mf_expr\u001b[49m\u001b[43m.\u001b[49m\u001b[43msubs\u001b[49m\u001b[43m(\u001b[49m\u001b[43m{\u001b[49m\u001b[43mx\u001b[49m\u001b[43m:\u001b[49m\u001b[43m \u001b[49m\u001b[43mnew_point\u001b[49m\u001b[43m[\u001b[49m\u001b[32;43m0\u001b[39;49m\u001b[43m]\u001b[49m\u001b[43m,\u001b[49m\u001b[43m \u001b[49m\u001b[43my\u001b[49m\u001b[43m:\u001b[49m\u001b[43m \u001b[49m\u001b[43mnew_point\u001b[49m\u001b[43m[\u001b[49m\u001b[32;43m1\u001b[39;49m\u001b[43m]\u001b[49m\u001b[43m}\u001b[49m\u001b[43m)\u001b[49m\n\u001b[32m     41\u001b[39m df_dalpha = sp.diff(f_alpha, alpha)\n\u001b[32m     42\u001b[39m alpha_k = sp.solve(df_dalpha, alpha)\n",
      "\u001b[36mFile \u001b[39m\u001b[32mc:\\Users\\kayce\\AppData\\Local\\Programs\\Python\\Python313\\Lib\\site-packages\\sympy\\core\\basic.py:1122\u001b[39m, in \u001b[36mBasic.subs\u001b[39m\u001b[34m(self, arg1, arg2, **kwargs)\u001b[39m\n\u001b[32m   1119\u001b[39m     \u001b[38;5;28;01melse\u001b[39;00m:\n\u001b[32m   1120\u001b[39m         \u001b[38;5;28;01mreturn\u001b[39;00m sympify(new, strict=\u001b[38;5;28;01mTrue\u001b[39;00m)\n\u001b[32m-> \u001b[39m\u001b[32m1122\u001b[39m sequence = [(sympify_old(s1), \u001b[43msympify_new\u001b[49m\u001b[43m(\u001b[49m\u001b[43ms2\u001b[49m\u001b[43m)\u001b[49m) \u001b[38;5;28;01mfor\u001b[39;00m s1, s2 \u001b[38;5;129;01min\u001b[39;00m items]\n\u001b[32m   1124\u001b[39m \u001b[38;5;66;03m# skip if there is no change\u001b[39;00m\n\u001b[32m   1125\u001b[39m sequence = [(s1, s2) \u001b[38;5;28;01mfor\u001b[39;00m s1, s2 \u001b[38;5;129;01min\u001b[39;00m sequence \u001b[38;5;28;01mif\u001b[39;00m \u001b[38;5;129;01mnot\u001b[39;00m _aresame(s1, s2)]\n",
      "\u001b[36mFile \u001b[39m\u001b[32mc:\\Users\\kayce\\AppData\\Local\\Programs\\Python\\Python313\\Lib\\site-packages\\sympy\\core\\basic.py:1120\u001b[39m, in \u001b[36mBasic.subs.<locals>.sympify_new\u001b[39m\u001b[34m(new)\u001b[39m\n\u001b[32m   1118\u001b[39m     \u001b[38;5;28;01mreturn\u001b[39;00m sympify(new, strict=\u001b[38;5;28;01mFalse\u001b[39;00m)\n\u001b[32m   1119\u001b[39m \u001b[38;5;28;01melse\u001b[39;00m:\n\u001b[32m-> \u001b[39m\u001b[32m1120\u001b[39m     \u001b[38;5;28;01mreturn\u001b[39;00m \u001b[43msympify\u001b[49m\u001b[43m(\u001b[49m\u001b[43mnew\u001b[49m\u001b[43m,\u001b[49m\u001b[43m \u001b[49m\u001b[43mstrict\u001b[49m\u001b[43m=\u001b[49m\u001b[38;5;28;43;01mTrue\u001b[39;49;00m\u001b[43m)\u001b[49m\n",
      "\u001b[36mFile \u001b[39m\u001b[32mc:\\Users\\kayce\\AppData\\Local\\Programs\\Python\\Python313\\Lib\\site-packages\\sympy\\core\\sympify.py:480\u001b[39m, in \u001b[36msympify\u001b[39m\u001b[34m(a, locals, convert_xor, strict, rational, evaluate)\u001b[39m\n\u001b[32m    477\u001b[39m         \u001b[38;5;28;01mreturn\u001b[39;00m sympify(\u001b[38;5;28mint\u001b[39m(a))\n\u001b[32m    479\u001b[39m \u001b[38;5;28;01mif\u001b[39;00m strict:\n\u001b[32m--> \u001b[39m\u001b[32m480\u001b[39m     \u001b[38;5;28;01mraise\u001b[39;00m SympifyError(a)\n\u001b[32m    482\u001b[39m \u001b[38;5;28;01mif\u001b[39;00m iterable(a):\n\u001b[32m    483\u001b[39m     \u001b[38;5;28;01mtry\u001b[39;00m:\n",
      "\u001b[31mSympifyError\u001b[39m: SympifyError: array([2*alpha, 2*alpha], dtype=object)"
     ]
    }
   ],
   "source": [
    "import sympy as sp\n",
    "import numpy as np\n",
    "\n",
    "\n",
    "print(\"Enter your function f(x, y): \")\n",
    "f_expr = sp.sympify(input(\"f(x, y) = \"))\n",
    "\n",
    "x, y = sp.symbols('x y')\n",
    "vars = sp.Matrix([x, y])\n",
    "grad_f = sp.Matrix([sp.diff(f_expr, var) for var in vars])\n",
    "print(\"Gradient of f:\", grad_f)\n",
    "hessian_f = grad_f.jacobian(vars)\n",
    "print(\"Hessian of f:\", hessian_f)\n",
    "print(\"Enter your initial guess (x0, y0): \")\n",
    "input_str = input(\"x0, y0 = \")\n",
    "x0, y0 = map(float, input_str.split(','))    \n",
    "print(\"Initial guess:\", (x0, y0))\n",
    "\n",
    "f = sp.lambdify((x, y), f_expr, \"numpy\")\n",
    "grad = sp.lambdify((x, y), grad_f, \"numpy\")\n",
    "\n",
    "tol = float(input(\"Enter tolerance (e.g. 1e-6): \"))\n",
    "max_iter = 1000\n",
    "\n",
    "\n",
    "point = np.array([x0, y0], dtype=float)\n",
    "for k in range(max_iter):\n",
    "    g = np.array(grad(point[0], point[1]), dtype=float).flatten()\n",
    "    grad_norm = np.linalg.norm(g)\n",
    "    \n",
    "    # Stop if gradient is very small (converged)\n",
    "    if grad_norm < tol:\n",
    "        print(f\"\\nConverged at iteration {k}\")\n",
    "        break\n",
    "    \n",
    "    # Compute optimal alpha_k using exact line search (symbolic)\n",
    "    alpha = sp.Symbol('alpha', real=True)\n",
    "    new_point = point - alpha * grad_f.subs({x: point[0], y: point[1]})\n",
    "    f_alpha = f_expr.subs({x: new_point[0], y: new_point[1]})\n",
    "    \n",
    "    df_dalpha = sp.diff(f_alpha, alpha)\n",
    "    alpha_k = sp.solve(df_dalpha, alpha)\n",
    "    \n",
    "    \n",
    "    alpha_k = [a.evalf() for a in alpha_k if a.is_real and a > 0]\n",
    "    alpha_k = float(alpha_k[0]) if alpha_k else 0.01  # fallback\n",
    "\n",
    "    \n",
    "    point = point - alpha_k * g\n",
    "    \n",
    "    print(f\"Iter {k+1}: x = {point}, α = {alpha_k:.5f}, |grad| = {grad_norm:.5e}\")\n",
    "\n",
    "print(f\"\\nMinimum point ≈ {point}, f(x, y) = {f(point[0], point[1]):.6f}\")"
   ]
  },
  {
   "cell_type": "code",
   "execution_count": null,
   "id": "68c69ce3-ee83-4b1d-ac56-312a7df1e2d3",
   "metadata": {},
   "outputs": [
    {
     "name": "stdout",
     "output_type": "stream",
     "text": [
      "Function f(x, y):  x**2 - 2*x + 2*y**2 - 4*y\n",
      "Gradient of f: Matrix([[2*x - 2], [4*y - 4]])\n",
      "Hessian of f: Matrix([[2, 0], [0, 4]])\n",
      "Enter your initial guess (x0, y0): \n",
      "Initial guess: (0.0, 0.0)\n"
     ]
    },
    {
     "ename": "SympifyError",
     "evalue": "SympifyError: array([2*alpha, 2*alpha], dtype=object)",
     "output_type": "error",
     "traceback": [
      "\u001b[31m---------------------------------------------------------------------------\u001b[39m",
      "\u001b[31mSympifyError\u001b[39m                              Traceback (most recent call last)",
      "\u001b[36mCell\u001b[39m\u001b[36m \u001b[39m\u001b[32mIn[11]\u001b[39m\u001b[32m, line 38\u001b[39m\n\u001b[32m     36\u001b[39m alpha = sp.Symbol(\u001b[33m'\u001b[39m\u001b[33malpha\u001b[39m\u001b[33m'\u001b[39m, real=\u001b[38;5;28;01mTrue\u001b[39;00m)\n\u001b[32m     37\u001b[39m new_point = point - alpha * grad_f.subs({x: point[\u001b[32m0\u001b[39m], y: point[\u001b[32m1\u001b[39m]})\n\u001b[32m---> \u001b[39m\u001b[32m38\u001b[39m f_alpha = \u001b[43mf_expr\u001b[49m\u001b[43m.\u001b[49m\u001b[43msubs\u001b[49m\u001b[43m(\u001b[49m\u001b[43m{\u001b[49m\u001b[43mx\u001b[49m\u001b[43m:\u001b[49m\u001b[43m \u001b[49m\u001b[43mnew_point\u001b[49m\u001b[43m[\u001b[49m\u001b[32;43m0\u001b[39;49m\u001b[43m]\u001b[49m\u001b[43m,\u001b[49m\u001b[43m \u001b[49m\u001b[43my\u001b[49m\u001b[43m:\u001b[49m\u001b[43m \u001b[49m\u001b[43mnew_point\u001b[49m\u001b[43m[\u001b[49m\u001b[32;43m1\u001b[39;49m\u001b[43m]\u001b[49m\u001b[43m}\u001b[49m\u001b[43m)\u001b[49m\n\u001b[32m     40\u001b[39m df_dalpha = sp.diff(f_alpha, alpha)\n\u001b[32m     41\u001b[39m alpha_k = sp.solve(df_dalpha, alpha)\n",
      "\u001b[36mFile \u001b[39m\u001b[32mc:\\Users\\kayce\\AppData\\Local\\Programs\\Python\\Python313\\Lib\\site-packages\\sympy\\core\\basic.py:1122\u001b[39m, in \u001b[36mBasic.subs\u001b[39m\u001b[34m(self, arg1, arg2, **kwargs)\u001b[39m\n\u001b[32m   1119\u001b[39m     \u001b[38;5;28;01melse\u001b[39;00m:\n\u001b[32m   1120\u001b[39m         \u001b[38;5;28;01mreturn\u001b[39;00m sympify(new, strict=\u001b[38;5;28;01mTrue\u001b[39;00m)\n\u001b[32m-> \u001b[39m\u001b[32m1122\u001b[39m sequence = [(sympify_old(s1), \u001b[43msympify_new\u001b[49m\u001b[43m(\u001b[49m\u001b[43ms2\u001b[49m\u001b[43m)\u001b[49m) \u001b[38;5;28;01mfor\u001b[39;00m s1, s2 \u001b[38;5;129;01min\u001b[39;00m items]\n\u001b[32m   1124\u001b[39m \u001b[38;5;66;03m# skip if there is no change\u001b[39;00m\n\u001b[32m   1125\u001b[39m sequence = [(s1, s2) \u001b[38;5;28;01mfor\u001b[39;00m s1, s2 \u001b[38;5;129;01min\u001b[39;00m sequence \u001b[38;5;28;01mif\u001b[39;00m \u001b[38;5;129;01mnot\u001b[39;00m _aresame(s1, s2)]\n",
      "\u001b[36mFile \u001b[39m\u001b[32mc:\\Users\\kayce\\AppData\\Local\\Programs\\Python\\Python313\\Lib\\site-packages\\sympy\\core\\basic.py:1120\u001b[39m, in \u001b[36mBasic.subs.<locals>.sympify_new\u001b[39m\u001b[34m(new)\u001b[39m\n\u001b[32m   1118\u001b[39m     \u001b[38;5;28;01mreturn\u001b[39;00m sympify(new, strict=\u001b[38;5;28;01mFalse\u001b[39;00m)\n\u001b[32m   1119\u001b[39m \u001b[38;5;28;01melse\u001b[39;00m:\n\u001b[32m-> \u001b[39m\u001b[32m1120\u001b[39m     \u001b[38;5;28;01mreturn\u001b[39;00m \u001b[43msympify\u001b[49m\u001b[43m(\u001b[49m\u001b[43mnew\u001b[49m\u001b[43m,\u001b[49m\u001b[43m \u001b[49m\u001b[43mstrict\u001b[49m\u001b[43m=\u001b[49m\u001b[38;5;28;43;01mTrue\u001b[39;49;00m\u001b[43m)\u001b[49m\n",
      "\u001b[36mFile \u001b[39m\u001b[32mc:\\Users\\kayce\\AppData\\Local\\Programs\\Python\\Python313\\Lib\\site-packages\\sympy\\core\\sympify.py:480\u001b[39m, in \u001b[36msympify\u001b[39m\u001b[34m(a, locals, convert_xor, strict, rational, evaluate)\u001b[39m\n\u001b[32m    477\u001b[39m         \u001b[38;5;28;01mreturn\u001b[39;00m sympify(\u001b[38;5;28mint\u001b[39m(a))\n\u001b[32m    479\u001b[39m \u001b[38;5;28;01mif\u001b[39;00m strict:\n\u001b[32m--> \u001b[39m\u001b[32m480\u001b[39m     \u001b[38;5;28;01mraise\u001b[39;00m SympifyError(a)\n\u001b[32m    482\u001b[39m \u001b[38;5;28;01mif\u001b[39;00m iterable(a):\n\u001b[32m    483\u001b[39m     \u001b[38;5;28;01mtry\u001b[39;00m:\n",
      "\u001b[31mSympifyError\u001b[39m: SympifyError: array([2*alpha, 2*alpha], dtype=object)"
     ]
    }
   ],
   "source": [
    "import sympy as sp\n",
    "import numpy as np\n",
    "\n",
    "f_expr = sp.sympify(input(\"f(x, y) = \"))\n",
    "print(\"Function f(x, y): \", f_expr)\n",
    "\n",
    "x, y = sp.symbols('x y')\n",
    "vars = sp.Matrix([x, y])\n",
    "grad_f = sp.Matrix([sp.diff(f_expr, var) for var in vars])\n",
    "print(\"Gradient of f:\", grad_f)\n",
    "hessian_f = grad_f.jacobian(vars)\n",
    "print(\"Hessian of f:\", hessian_f)\n",
    "print(\"Enter your initial guess (x0, y0): \")\n",
    "input_str = input(\"x0, y0 = \")\n",
    "x0, y0 = map(float, input_str.split(','))    \n",
    "print(\"Initial guess:\", (x0, y0))\n",
    "\n",
    "f = sp.lambdify((x, y), f_expr, \"numpy\")\n",
    "grad = sp.lambdify((x, y), grad_f, \"numpy\")\n",
    "\n",
    "tol = float(1e-6)\n",
    "max_iter = 1000\n",
    "\n",
    "\n",
    "point = np.array([x0, y0], dtype=float)\n",
    "for k in range(max_iter):\n",
    "    g = np.array(grad(point[0], point[1]), dtype=float).flatten()\n",
    "    grad_norm = np.linalg.norm(g)\n",
    "    \n",
    "    # Stop if gradient is very small (converged)\n",
    "    if grad_norm < tol:\n",
    "        print(f\"\\nConverged at iteration {k}\")\n",
    "        break\n",
    "    \n",
    "    # Compute optimal alpha_k using exact line search (symbolic)\n",
    "    alpha = sp.Symbol('alpha', real=True)\n",
    "    new_point = point - alpha * grad_f.subs({x: point[0], y: point[1]})\n",
    "    f_alpha = f_expr.subs({x: new_point[0], y: new_point[1]})\n",
    "    \n",
    "    df_dalpha = sp.diff(f_alpha, alpha)\n",
    "    alpha_k = sp.solve(df_dalpha, alpha)\n",
    "    \n",
    "    \n",
    "    alpha_k = [a.evalf() for a in alpha_k if a.is_real and a > 0]\n",
    "    alpha_k = float(alpha_k[0]) if alpha_k else 0.01  # fallback\n",
    "\n",
    "    \n",
    "    point = point - alpha_k * g\n",
    "    \n",
    "    print(f\"Iter {k+1}: x = {point}, α = {alpha_k:.5f}, |grad| = {grad_norm:.5e}\")\n",
    "\n",
    "print(f\"\\nMinimum point ≈ {point}, f(x, y) = {f(point[0], point[1]):.6f}\")"
   ]
  },
  {
   "cell_type": "code",
   "execution_count": null,
   "id": "e3502115-be52-4f61-823c-bbbb326651b1",
   "metadata": {},
   "outputs": [
    {
     "ename": "SympifyError",
     "evalue": "Sympify of expression 'could not parse ''' failed, because of exception being raised:\nSyntaxError: invalid syntax (<string>, line 0)",
     "output_type": "error",
     "traceback": [
      "\u001b[31m---------------------------------------------------------------------------\u001b[39m",
      "\u001b[31mValueError\u001b[39m                                Traceback (most recent call last)",
      "\u001b[31mValueError\u001b[39m: Error from parse_expr with transformed code: ''",
      "\nThe above exception was the direct cause of the following exception:\n",
      "\u001b[31mSyntaxError\u001b[39m                               Traceback (most recent call last)",
      "\u001b[36mFile \u001b[39m\u001b[32mc:\\Users\\kayce\\AppData\\Local\\Programs\\Python\\Python313\\Lib\\site-packages\\sympy\\core\\sympify.py:507\u001b[39m, in \u001b[36msympify\u001b[39m\u001b[34m(a, locals, convert_xor, strict, rational, evaluate)\u001b[39m\n\u001b[32m    506\u001b[39m     a = a.replace(\u001b[33m'\u001b[39m\u001b[38;5;130;01m\\n\u001b[39;00m\u001b[33m'\u001b[39m, \u001b[33m'\u001b[39m\u001b[33m'\u001b[39m)\n\u001b[32m--> \u001b[39m\u001b[32m507\u001b[39m     expr = \u001b[43mparse_expr\u001b[49m\u001b[43m(\u001b[49m\u001b[43ma\u001b[49m\u001b[43m,\u001b[49m\u001b[43m \u001b[49m\u001b[43mlocal_dict\u001b[49m\u001b[43m=\u001b[49m\u001b[38;5;28;43mlocals\u001b[39;49m\u001b[43m,\u001b[49m\u001b[43m \u001b[49m\u001b[43mtransformations\u001b[49m\u001b[43m=\u001b[49m\u001b[43mtransformations\u001b[49m\u001b[43m,\u001b[49m\u001b[43m \u001b[49m\u001b[43mevaluate\u001b[49m\u001b[43m=\u001b[49m\u001b[43mevaluate\u001b[49m\u001b[43m)\u001b[49m\n\u001b[32m    508\u001b[39m \u001b[38;5;28;01mexcept\u001b[39;00m (TokenError, \u001b[38;5;167;01mSyntaxError\u001b[39;00m) \u001b[38;5;28;01mas\u001b[39;00m exc:\n",
      "\u001b[36mFile \u001b[39m\u001b[32mc:\\Users\\kayce\\AppData\\Local\\Programs\\Python\\Python313\\Lib\\site-packages\\sympy\\parsing\\sympy_parser.py:1090\u001b[39m, in \u001b[36mparse_expr\u001b[39m\u001b[34m(s, local_dict, transformations, global_dict, evaluate)\u001b[39m\n\u001b[32m   1089\u001b[39m     local_dict[i] = null\n\u001b[32m-> \u001b[39m\u001b[32m1090\u001b[39m \u001b[38;5;28;01mraise\u001b[39;00m e \u001b[38;5;28;01mfrom\u001b[39;00m\u001b[38;5;250m \u001b[39m\u001b[34;01mValueError\u001b[39;00m(\u001b[33mf\u001b[39m\u001b[33m\"\u001b[39m\u001b[33mError from parse_expr with transformed code: \u001b[39m\u001b[38;5;132;01m{\u001b[39;00mcode\u001b[38;5;132;01m!r}\u001b[39;00m\u001b[33m\"\u001b[39m)\n",
      "\u001b[36mFile \u001b[39m\u001b[32mc:\\Users\\kayce\\AppData\\Local\\Programs\\Python\\Python313\\Lib\\site-packages\\sympy\\parsing\\sympy_parser.py:1081\u001b[39m, in \u001b[36mparse_expr\u001b[39m\u001b[34m(s, local_dict, transformations, global_dict, evaluate)\u001b[39m\n\u001b[32m   1080\u001b[39m \u001b[38;5;28;01mtry\u001b[39;00m:\n\u001b[32m-> \u001b[39m\u001b[32m1081\u001b[39m     rv = \u001b[43meval_expr\u001b[49m\u001b[43m(\u001b[49m\u001b[43mcode\u001b[49m\u001b[43m,\u001b[49m\u001b[43m \u001b[49m\u001b[43mlocal_dict\u001b[49m\u001b[43m,\u001b[49m\u001b[43m \u001b[49m\u001b[43mglobal_dict\u001b[49m\u001b[43m)\u001b[49m\n\u001b[32m   1082\u001b[39m     \u001b[38;5;66;03m# restore neutral definitions for names\u001b[39;00m\n",
      "\u001b[36mFile \u001b[39m\u001b[32mc:\\Users\\kayce\\AppData\\Local\\Programs\\Python\\Python313\\Lib\\site-packages\\sympy\\parsing\\sympy_parser.py:905\u001b[39m, in \u001b[36meval_expr\u001b[39m\u001b[34m(code, local_dict, global_dict)\u001b[39m\n\u001b[32m    900\u001b[39m \u001b[38;5;250m\u001b[39m\u001b[33;03m\"\"\"\u001b[39;00m\n\u001b[32m    901\u001b[39m \u001b[33;03mEvaluate Python code generated by ``stringify_expr``.\u001b[39;00m\n\u001b[32m    902\u001b[39m \n\u001b[32m    903\u001b[39m \u001b[33;03mGenerally, ``parse_expr`` should be used.\u001b[39;00m\n\u001b[32m    904\u001b[39m \u001b[33;03m\"\"\"\u001b[39;00m\n\u001b[32m--> \u001b[39m\u001b[32m905\u001b[39m expr = \u001b[38;5;28;43meval\u001b[39;49m\u001b[43m(\u001b[49m\n\u001b[32m    906\u001b[39m \u001b[43m    \u001b[49m\u001b[43mcode\u001b[49m\u001b[43m,\u001b[49m\u001b[43m \u001b[49m\u001b[43mglobal_dict\u001b[49m\u001b[43m,\u001b[49m\u001b[43m \u001b[49m\u001b[43mlocal_dict\u001b[49m\u001b[43m)\u001b[49m  \u001b[38;5;66;03m# take local objects in preference\u001b[39;00m\n\u001b[32m    907\u001b[39m \u001b[38;5;28;01mreturn\u001b[39;00m expr\n",
      "\u001b[31mSyntaxError\u001b[39m: invalid syntax (<string>, line 0)",
      "\nDuring handling of the above exception, another exception occurred:\n",
      "\u001b[31mSympifyError\u001b[39m                              Traceback (most recent call last)",
      "\u001b[36mCell\u001b[39m\u001b[36m \u001b[39m\u001b[32mIn[12]\u001b[39m\u001b[32m, line 4\u001b[39m\n\u001b[32m      1\u001b[39m \u001b[38;5;28;01mimport\u001b[39;00m\u001b[38;5;250m \u001b[39m\u001b[34;01msympy\u001b[39;00m\u001b[38;5;250m \u001b[39m\u001b[38;5;28;01mas\u001b[39;00m\u001b[38;5;250m \u001b[39m\u001b[34;01msp\u001b[39;00m\n\u001b[32m      2\u001b[39m \u001b[38;5;28;01mimport\u001b[39;00m\u001b[38;5;250m \u001b[39m\u001b[34;01mnumpy\u001b[39;00m\u001b[38;5;250m \u001b[39m\u001b[38;5;28;01mas\u001b[39;00m\u001b[38;5;250m \u001b[39m\u001b[34;01mnp\u001b[39;00m\n\u001b[32m----> \u001b[39m\u001b[32m4\u001b[39m f_expr = \u001b[43msp\u001b[49m\u001b[43m.\u001b[49m\u001b[43msympify\u001b[49m\u001b[43m(\u001b[49m\u001b[38;5;28;43minput\u001b[39;49m\u001b[43m(\u001b[49m\u001b[33;43m\"\u001b[39;49m\u001b[33;43mf(x, y) = \u001b[39;49m\u001b[33;43m\"\u001b[39;49m\u001b[43m)\u001b[49m\u001b[43m)\u001b[49m\n\u001b[32m      5\u001b[39m \u001b[38;5;28mprint\u001b[39m(\u001b[33m\"\u001b[39m\u001b[33mFunction f(x, y)= \u001b[39m\u001b[33m\"\u001b[39m, f_expr)\n\u001b[32m      7\u001b[39m x, y = sp.symbols(\u001b[33m'\u001b[39m\u001b[33mx y\u001b[39m\u001b[33m'\u001b[39m)\n",
      "\u001b[36mFile \u001b[39m\u001b[32mc:\\Users\\kayce\\AppData\\Local\\Programs\\Python\\Python313\\Lib\\site-packages\\sympy\\core\\sympify.py:509\u001b[39m, in \u001b[36msympify\u001b[39m\u001b[34m(a, locals, convert_xor, strict, rational, evaluate)\u001b[39m\n\u001b[32m    507\u001b[39m     expr = parse_expr(a, local_dict=\u001b[38;5;28mlocals\u001b[39m, transformations=transformations, evaluate=evaluate)\n\u001b[32m    508\u001b[39m \u001b[38;5;28;01mexcept\u001b[39;00m (TokenError, \u001b[38;5;167;01mSyntaxError\u001b[39;00m) \u001b[38;5;28;01mas\u001b[39;00m exc:\n\u001b[32m--> \u001b[39m\u001b[32m509\u001b[39m     \u001b[38;5;28;01mraise\u001b[39;00m SympifyError(\u001b[33m'\u001b[39m\u001b[33mcould not parse \u001b[39m\u001b[38;5;132;01m%r\u001b[39;00m\u001b[33m'\u001b[39m % a, exc)\n\u001b[32m    511\u001b[39m \u001b[38;5;28;01mreturn\u001b[39;00m expr\n",
      "\u001b[31mSympifyError\u001b[39m: Sympify of expression 'could not parse ''' failed, because of exception being raised:\nSyntaxError: invalid syntax (<string>, line 0)"
     ]
    }
   ],
   "source": [
    "import sympy as sp\n",
    "import numpy as np\n",
    "\n",
    "f_expr = sp.sympify(input(\"f(x, y) = \"))\n",
    "print(\"Function f(x, y)= \", f_expr)\n",
    "\n",
    "x, y = sp.symbols('x y')\n",
    "vars = sp.Matrix([x, y])\n",
    "grad_f = sp.Matrix([sp.diff(f_expr, var) for var in vars])\n",
    "print(\"Gradient of f:\", grad_f)\n",
    "hessian_f = grad_f.jacobian(vars)\n",
    "print(\"Hessian of f:\", hessian_f)\n",
    "print(\"Enter your initial guess (x0, y0): \")\n",
    "input_str = input(\"x0, y0 = \")\n",
    "x0, y0 = map(float, input_str.split(','))    \n",
    "print(\"Initial guess:\", (x0, y0))\n",
    "\n",
    "f = sp.lambdify((x, y), f_expr, \"numpy\")\n",
    "grad = sp.lambdify((x, y), grad_f, \"numpy\")\n",
    "\n",
    "tol = float(1e-6)\n",
    "max_iter = 1000\n",
    "\n",
    "\n",
    "point = np.array([x0, y0], dtype=float)\n",
    "for k in range(max_iter):\n",
    "    g = np.array(grad(point[0], point[1]), dtype=float).flatten()\n",
    "    grad_norm = np.linalg.norm(g)\n",
    "    \n",
    "    # Stop if gradient is very small (converged)\n",
    "    if grad_norm < tol:\n",
    "        print(f\"\\nConverged at iteration {k}\")\n",
    "        break\n",
    "    \n",
    "    # Compute optimal alpha_k using exact line search (symbolic)\n",
    "    alpha = sp.Symbol('alpha', real=True)\n",
    "    new_point = point - alpha * grad_f.subs({x: point[0], y: point[1]})\n",
    "    f_alpha = f_expr.subs({x: new_point[0], y: new_point[1]})\n",
    "    \n",
    "    df_dalpha = sp.diff(f_alpha, alpha)\n",
    "    alpha_k = sp.solve(df_dalpha, alpha)\n",
    "    \n",
    "    \n",
    "    alpha_k = [a.evalf() for a in alpha_k if a.is_real and a > 0]\n",
    "    alpha_k = float(alpha_k[0]) if alpha_k else 0.01  # fallback\n",
    "\n",
    "    \n",
    "    point = point - alpha_k * g\n",
    "    \n",
    "    print(f\"Iter {k+1}: x = {point}, α = {alpha_k:.5f}, |grad| = {grad_norm:.5e}\")\n",
    "\n",
    "print(f\"\\nMinimum point ≈ {point}, f(x, y) = {f(point[0], point[1]):.6f}\")"
   ]
  }
 ],
 "metadata": {
  "kernelspec": {
   "display_name": "Python 3",
   "language": "python",
   "name": "python3"
  },
  "language_info": {
   "name": "python",
   "version": "3.13.3"
  }
 },
 "nbformat": 4,
 "nbformat_minor": 5
}
